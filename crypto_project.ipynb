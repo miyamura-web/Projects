{
 "cells": [
  {
   "cell_type": "markdown",
   "id": "d2298965-f9f3-4d3e-94a4-e330639a3fd4",
   "metadata": {},
   "source": [
    "# Crypto Trend analysis 2024"
   ]
  },
  {
   "cell_type": "code",
   "execution_count": 1,
   "id": "70f98de3-4cd0-42cb-8075-81707fb69771",
   "metadata": {},
   "outputs": [],
   "source": [
    "import pandas as pd\n",
    "import numpy as np\n",
    "import seaborn as sns\n",
    "import matplotlib as mp\n",
    "import matplotlib.pyplot as plt\n",
    "import statsmodels.api as sm"
   ]
  },
  {
   "cell_type": "code",
   "execution_count": 2,
   "id": "8c48e868-0084-427f-a23c-17d7bdb88ed0",
   "metadata": {},
   "outputs": [],
   "source": [
    "file = r\"D:\\Self Projects\\crypto trends.csv\"\n",
    "data = pd.read_csv(file)"
   ]
  },
  {
   "cell_type": "markdown",
   "id": "e9799503-d996-4336-8670-ea1d35a6d6b8",
   "metadata": {},
   "source": [
    "### Data Exploration"
   ]
  },
  {
   "cell_type": "code",
   "execution_count": 3,
   "id": "c11aca12-c6d9-428c-aa03-860c6852d5d3",
   "metadata": {},
   "outputs": [
    {
     "data": {
      "text/plain": [
       "Index(['Name', 'Symbol', 'Price', '1h %', '24h %', '7d %', '60d %', '90d %',\n",
       "       'YTD %', 'Market Cap', 'Volume (24h)', 'Volume Change (24h)',\n",
       "       'Volume Change (30d)', 'Circulating Supply', 'Total Supply',\n",
       "       'Max Supply', 'Num Market Pairs'],\n",
       "      dtype='object')"
      ]
     },
     "execution_count": 3,
     "metadata": {},
     "output_type": "execute_result"
    }
   ],
   "source": [
    "header = data.columns   # STORING COLUMNS IN A SINGLE VARIABLE.\n",
    "header"
   ]
  },
  {
   "cell_type": "code",
   "execution_count": 4,
   "id": "bcf0b45d-e1c6-4a01-9570-0ecef07d8fe8",
   "metadata": {},
   "outputs": [
    {
     "data": {
      "text/html": [
       "<div>\n",
       "<style scoped>\n",
       "    .dataframe tbody tr th:only-of-type {\n",
       "        vertical-align: middle;\n",
       "    }\n",
       "\n",
       "    .dataframe tbody tr th {\n",
       "        vertical-align: top;\n",
       "    }\n",
       "\n",
       "    .dataframe thead th {\n",
       "        text-align: right;\n",
       "    }\n",
       "</style>\n",
       "<table border=\"1\" class=\"dataframe\">\n",
       "  <thead>\n",
       "    <tr style=\"text-align: right;\">\n",
       "      <th></th>\n",
       "      <th>Price</th>\n",
       "      <th>1h %</th>\n",
       "      <th>24h %</th>\n",
       "      <th>7d %</th>\n",
       "      <th>60d %</th>\n",
       "      <th>90d %</th>\n",
       "      <th>YTD %</th>\n",
       "      <th>Market Cap</th>\n",
       "      <th>Volume (24h)</th>\n",
       "      <th>Volume Change (24h)</th>\n",
       "      <th>Volume Change (30d)</th>\n",
       "      <th>Circulating Supply</th>\n",
       "      <th>Total Supply</th>\n",
       "      <th>Max Supply</th>\n",
       "      <th>Num Market Pairs</th>\n",
       "    </tr>\n",
       "  </thead>\n",
       "  <tbody>\n",
       "    <tr>\n",
       "      <th>count</th>\n",
       "      <td>1.042200e+04</td>\n",
       "      <td>10422.000000</td>\n",
       "      <td>10422.000000</td>\n",
       "      <td>1.042200e+04</td>\n",
       "      <td>1.042200e+04</td>\n",
       "      <td>1.042200e+04</td>\n",
       "      <td>0.0</td>\n",
       "      <td>1.042200e+04</td>\n",
       "      <td>1.042200e+04</td>\n",
       "      <td>1.042200e+04</td>\n",
       "      <td>0.0</td>\n",
       "      <td>1.042200e+04</td>\n",
       "      <td>1.042200e+04</td>\n",
       "      <td>7.193000e+03</td>\n",
       "      <td>10422.000000</td>\n",
       "    </tr>\n",
       "    <tr>\n",
       "      <th>mean</th>\n",
       "      <td>9.453585e+06</td>\n",
       "      <td>-0.288289</td>\n",
       "      <td>0.641246</td>\n",
       "      <td>1.655411e+03</td>\n",
       "      <td>2.721187e+06</td>\n",
       "      <td>2.722664e+06</td>\n",
       "      <td>NaN</td>\n",
       "      <td>3.357221e+08</td>\n",
       "      <td>3.246243e+07</td>\n",
       "      <td>1.290656e+04</td>\n",
       "      <td>NaN</td>\n",
       "      <td>1.094196e+19</td>\n",
       "      <td>6.830891e+23</td>\n",
       "      <td>8.937838e+23</td>\n",
       "      <td>45.150163</td>\n",
       "    </tr>\n",
       "    <tr>\n",
       "      <th>std</th>\n",
       "      <td>9.650544e+08</td>\n",
       "      <td>10.974965</td>\n",
       "      <td>129.091132</td>\n",
       "      <td>1.562331e+05</td>\n",
       "      <td>2.663912e+08</td>\n",
       "      <td>2.663913e+08</td>\n",
       "      <td>NaN</td>\n",
       "      <td>1.921078e+10</td>\n",
       "      <td>1.524671e+09</td>\n",
       "      <td>1.265836e+06</td>\n",
       "      <td>NaN</td>\n",
       "      <td>1.117018e+21</td>\n",
       "      <td>6.332525e+25</td>\n",
       "      <td>7.580307e+25</td>\n",
       "      <td>1145.896493</td>\n",
       "    </tr>\n",
       "    <tr>\n",
       "      <th>min</th>\n",
       "      <td>0.000000e+00</td>\n",
       "      <td>-56.940285</td>\n",
       "      <td>-99.999018</td>\n",
       "      <td>-9.999984e+01</td>\n",
       "      <td>-1.000000e+02</td>\n",
       "      <td>-1.000000e+02</td>\n",
       "      <td>NaN</td>\n",
       "      <td>0.000000e+00</td>\n",
       "      <td>0.000000e+00</td>\n",
       "      <td>-1.000000e+02</td>\n",
       "      <td>NaN</td>\n",
       "      <td>0.000000e+00</td>\n",
       "      <td>0.000000e+00</td>\n",
       "      <td>0.000000e+00</td>\n",
       "      <td>1.000000</td>\n",
       "    </tr>\n",
       "    <tr>\n",
       "      <th>25%</th>\n",
       "      <td>5.360982e-05</td>\n",
       "      <td>-1.019994</td>\n",
       "      <td>-7.214286</td>\n",
       "      <td>-2.518977e+01</td>\n",
       "      <td>-3.531082e+01</td>\n",
       "      <td>-4.023521e+01</td>\n",
       "      <td>NaN</td>\n",
       "      <td>0.000000e+00</td>\n",
       "      <td>3.853050e+01</td>\n",
       "      <td>-5.339597e+01</td>\n",
       "      <td>NaN</td>\n",
       "      <td>0.000000e+00</td>\n",
       "      <td>8.581673e+07</td>\n",
       "      <td>1.000000e+08</td>\n",
       "      <td>3.000000</td>\n",
       "    </tr>\n",
       "    <tr>\n",
       "      <th>50%</th>\n",
       "      <td>1.897347e-03</td>\n",
       "      <td>-0.018832</td>\n",
       "      <td>-2.822792</td>\n",
       "      <td>-1.495760e+01</td>\n",
       "      <td>-2.093962e+00</td>\n",
       "      <td>-2.867345e+00</td>\n",
       "      <td>NaN</td>\n",
       "      <td>0.000000e+00</td>\n",
       "      <td>3.011039e+03</td>\n",
       "      <td>-1.330795e+01</td>\n",
       "      <td>NaN</td>\n",
       "      <td>0.000000e+00</td>\n",
       "      <td>9.994263e+08</td>\n",
       "      <td>1.000000e+09</td>\n",
       "      <td>6.000000</td>\n",
       "    </tr>\n",
       "    <tr>\n",
       "      <th>75%</th>\n",
       "      <td>4.800396e-02</td>\n",
       "      <td>0.000000</td>\n",
       "      <td>0.000000</td>\n",
       "      <td>-5.521332e+00</td>\n",
       "      <td>2.857897e+01</td>\n",
       "      <td>3.278379e+01</td>\n",
       "      <td>NaN</td>\n",
       "      <td>1.983793e+05</td>\n",
       "      <td>1.315338e+05</td>\n",
       "      <td>2.920000e-02</td>\n",
       "      <td>NaN</td>\n",
       "      <td>1.197753e+07</td>\n",
       "      <td>6.434709e+09</td>\n",
       "      <td>1.000000e+10</td>\n",
       "      <td>17.000000</td>\n",
       "    </tr>\n",
       "    <tr>\n",
       "      <th>max</th>\n",
       "      <td>9.852067e+10</td>\n",
       "      <td>778.987638</td>\n",
       "      <td>8949.037809</td>\n",
       "      <td>1.593897e+07</td>\n",
       "      <td>2.717464e+10</td>\n",
       "      <td>2.717464e+10</td>\n",
       "      <td>NaN</td>\n",
       "      <td>1.904383e+12</td>\n",
       "      <td>1.421387e+11</td>\n",
       "      <td>1.292153e+08</td>\n",
       "      <td>NaN</td>\n",
       "      <td>1.140343e+23</td>\n",
       "      <td>6.428977e+27</td>\n",
       "      <td>6.428977e+27</td>\n",
       "      <td>109588.000000</td>\n",
       "    </tr>\n",
       "  </tbody>\n",
       "</table>\n",
       "</div>"
      ],
      "text/plain": [
       "              Price          1h %         24h %          7d %         60d %  \\\n",
       "count  1.042200e+04  10422.000000  10422.000000  1.042200e+04  1.042200e+04   \n",
       "mean   9.453585e+06     -0.288289      0.641246  1.655411e+03  2.721187e+06   \n",
       "std    9.650544e+08     10.974965    129.091132  1.562331e+05  2.663912e+08   \n",
       "min    0.000000e+00    -56.940285    -99.999018 -9.999984e+01 -1.000000e+02   \n",
       "25%    5.360982e-05     -1.019994     -7.214286 -2.518977e+01 -3.531082e+01   \n",
       "50%    1.897347e-03     -0.018832     -2.822792 -1.495760e+01 -2.093962e+00   \n",
       "75%    4.800396e-02      0.000000      0.000000 -5.521332e+00  2.857897e+01   \n",
       "max    9.852067e+10    778.987638   8949.037809  1.593897e+07  2.717464e+10   \n",
       "\n",
       "              90d %  YTD %    Market Cap  Volume (24h)  Volume Change (24h)  \\\n",
       "count  1.042200e+04    0.0  1.042200e+04  1.042200e+04         1.042200e+04   \n",
       "mean   2.722664e+06    NaN  3.357221e+08  3.246243e+07         1.290656e+04   \n",
       "std    2.663913e+08    NaN  1.921078e+10  1.524671e+09         1.265836e+06   \n",
       "min   -1.000000e+02    NaN  0.000000e+00  0.000000e+00        -1.000000e+02   \n",
       "25%   -4.023521e+01    NaN  0.000000e+00  3.853050e+01        -5.339597e+01   \n",
       "50%   -2.867345e+00    NaN  0.000000e+00  3.011039e+03        -1.330795e+01   \n",
       "75%    3.278379e+01    NaN  1.983793e+05  1.315338e+05         2.920000e-02   \n",
       "max    2.717464e+10    NaN  1.904383e+12  1.421387e+11         1.292153e+08   \n",
       "\n",
       "       Volume Change (30d)  Circulating Supply  Total Supply    Max Supply  \\\n",
       "count                  0.0        1.042200e+04  1.042200e+04  7.193000e+03   \n",
       "mean                   NaN        1.094196e+19  6.830891e+23  8.937838e+23   \n",
       "std                    NaN        1.117018e+21  6.332525e+25  7.580307e+25   \n",
       "min                    NaN        0.000000e+00  0.000000e+00  0.000000e+00   \n",
       "25%                    NaN        0.000000e+00  8.581673e+07  1.000000e+08   \n",
       "50%                    NaN        0.000000e+00  9.994263e+08  1.000000e+09   \n",
       "75%                    NaN        1.197753e+07  6.434709e+09  1.000000e+10   \n",
       "max                    NaN        1.140343e+23  6.428977e+27  6.428977e+27   \n",
       "\n",
       "       Num Market Pairs  \n",
       "count      10422.000000  \n",
       "mean          45.150163  \n",
       "std         1145.896493  \n",
       "min            1.000000  \n",
       "25%            3.000000  \n",
       "50%            6.000000  \n",
       "75%           17.000000  \n",
       "max       109588.000000  "
      ]
     },
     "execution_count": 4,
     "metadata": {},
     "output_type": "execute_result"
    }
   ],
   "source": [
    "data.describe()"
   ]
  },
  {
   "cell_type": "code",
   "execution_count": 5,
   "id": "d44ea766-ce72-4c33-b20c-709b18d94343",
   "metadata": {},
   "outputs": [
    {
     "name": "stdout",
     "output_type": "stream",
     "text": [
      "<class 'pandas.core.frame.DataFrame'>\n",
      "RangeIndex: 10422 entries, 0 to 10421\n",
      "Data columns (total 17 columns):\n",
      " #   Column               Non-Null Count  Dtype  \n",
      "---  ------               --------------  -----  \n",
      " 0   Name                 10422 non-null  object \n",
      " 1   Symbol               10422 non-null  object \n",
      " 2   Price                10422 non-null  float64\n",
      " 3   1h %                 10422 non-null  float64\n",
      " 4   24h %                10422 non-null  float64\n",
      " 5   7d %                 10422 non-null  float64\n",
      " 6   60d %                10422 non-null  float64\n",
      " 7   90d %                10422 non-null  float64\n",
      " 8   YTD %                0 non-null      float64\n",
      " 9   Market Cap           10422 non-null  float64\n",
      " 10  Volume (24h)         10422 non-null  float64\n",
      " 11  Volume Change (24h)  10422 non-null  float64\n",
      " 12  Volume Change (30d)  0 non-null      float64\n",
      " 13  Circulating Supply   10422 non-null  float64\n",
      " 14  Total Supply         10422 non-null  float64\n",
      " 15  Max Supply           7193 non-null   float64\n",
      " 16  Num Market Pairs     10422 non-null  int64  \n",
      "dtypes: float64(14), int64(1), object(2)\n",
      "memory usage: 1.4+ MB\n"
     ]
    }
   ],
   "source": [
    "data.info()"
   ]
  },
  {
   "cell_type": "code",
   "execution_count": 6,
   "id": "6fe1562d-15ff-4bc2-bade-589c71313202",
   "metadata": {},
   "outputs": [
    {
     "data": {
      "text/plain": [
       "Name                       0\n",
       "Symbol                     0\n",
       "Price                      0\n",
       "1h %                       0\n",
       "24h %                      0\n",
       "7d %                       0\n",
       "60d %                      0\n",
       "90d %                      0\n",
       "YTD %                  10422\n",
       "Market Cap                 0\n",
       "Volume (24h)               0\n",
       "Volume Change (24h)        0\n",
       "Volume Change (30d)    10422\n",
       "Circulating Supply         0\n",
       "Total Supply               0\n",
       "Max Supply              3229\n",
       "Num Market Pairs           0\n",
       "dtype: int64"
      ]
     },
     "execution_count": 6,
     "metadata": {},
     "output_type": "execute_result"
    }
   ],
   "source": [
    "data.isnull().sum()        # Check for missing values"
   ]
  },
  {
   "cell_type": "code",
   "execution_count": 7,
   "id": "273dfdae-db0e-4af0-b21a-43a585942e26",
   "metadata": {},
   "outputs": [
    {
     "data": {
      "text/plain": [
       "0"
      ]
     },
     "execution_count": 7,
     "metadata": {},
     "output_type": "execute_result"
    }
   ],
   "source": [
    "data.duplicated().sum()    # Check for duplicates"
   ]
  },
  {
   "cell_type": "code",
   "execution_count": 8,
   "id": "ea733961-dccd-4b2e-9aa3-f67e4deac042",
   "metadata": {},
   "outputs": [
    {
     "data": {
      "text/plain": [
       "Name                    object\n",
       "Symbol                  object\n",
       "Price                  float64\n",
       "1h %                   float64\n",
       "24h %                  float64\n",
       "7d %                   float64\n",
       "60d %                  float64\n",
       "90d %                  float64\n",
       "YTD %                  float64\n",
       "Market Cap             float64\n",
       "Volume (24h)           float64\n",
       "Volume Change (24h)    float64\n",
       "Volume Change (30d)    float64\n",
       "Circulating Supply     float64\n",
       "Total Supply           float64\n",
       "Max Supply             float64\n",
       "Num Market Pairs         int64\n",
       "dtype: object"
      ]
     },
     "execution_count": 8,
     "metadata": {},
     "output_type": "execute_result"
    }
   ],
   "source": [
    "data.dtypes            # Check data types"
   ]
  },
  {
   "cell_type": "code",
   "execution_count": 9,
   "id": "cf37444f-c272-42c1-8dbf-29d3c4a8512e",
   "metadata": {},
   "outputs": [
    {
     "data": {
      "text/plain": [
       "(10422, 17)"
      ]
     },
     "execution_count": 9,
     "metadata": {},
     "output_type": "execute_result"
    }
   ],
   "source": [
    "data.shape"
   ]
  },
  {
   "cell_type": "code",
   "execution_count": null,
   "id": "2746835a-2ea9-4366-812b-6c6b857fff34",
   "metadata": {},
   "outputs": [],
   "source": []
  },
  {
   "cell_type": "code",
   "execution_count": null,
   "id": "405c0eb5-2982-4de1-8f46-4723c45a85f5",
   "metadata": {},
   "outputs": [],
   "source": []
  },
  {
   "cell_type": "markdown",
   "id": "3405a85e-4586-41e7-9795-6d802480ecba",
   "metadata": {},
   "source": [
    "### Data Cleaning"
   ]
  },
  {
   "cell_type": "code",
   "execution_count": 10,
   "id": "cf4a846f-ce48-4cf4-a8ef-73f0628227bf",
   "metadata": {},
   "outputs": [],
   "source": [
    "# As ytd % and volume change (30D) cols are enirely blank so these are need to drop\n",
    "df = data.drop(columns=[\"YTD %\", \"Volume Change (30d)\"])"
   ]
  },
  {
   "cell_type": "code",
   "execution_count": 11,
   "id": "8292ded5-5676-47ba-99cb-03f36cd28f1d",
   "metadata": {},
   "outputs": [],
   "source": [
    "# Replace missing values with NaN (this step is usually redundant as pandas already assigns NaN to missing values)\n",
    "df['Max Supply'] = df['Max Supply'].replace({None: np.nan})\n",
    "\n",
    "# Ensure the column is a float type to handle NaN\n",
    "df['Max Supply'] = df['Max Supply'].astype(float)    # NaN is a special floating-point value in Python. To accommodate it, the column type must be float, not int.\n"
   ]
  },
  {
   "cell_type": "code",
   "execution_count": null,
   "id": "c9aaaacb-a98e-426b-a31a-7baa6fd34559",
   "metadata": {},
   "outputs": [],
   "source": []
  },
  {
   "cell_type": "code",
   "execution_count": null,
   "id": "eb768996-4085-4fdd-9117-63489d87ad3d",
   "metadata": {},
   "outputs": [],
   "source": []
  },
  {
   "cell_type": "markdown",
   "id": "a81ecda7-f710-4cc9-b5a2-b0e863a95bab",
   "metadata": {},
   "source": [
    "### Data Transformation"
   ]
  },
  {
   "cell_type": "code",
   "execution_count": 12,
   "id": "e5f5f7dc-9f9a-4e1e-abee-cfc2f69b171b",
   "metadata": {},
   "outputs": [],
   "source": [
    "# filtering data from the col\n",
    "bitcoin = data[data.Name==\"Bitcoin\"]   # just to see only one element, 'Name' is the col,and saving it in the bitcoin variable. "
   ]
  },
  {
   "cell_type": "code",
   "execution_count": 13,
   "id": "288dd983-1665-489b-a9f6-321a0f36d656",
   "metadata": {},
   "outputs": [],
   "source": [
    "# storing min, max and mean price col.\n",
    "min_price = data.Price.min(),  \n",
    "max_price = int(data.Price.max()),\n",
    "mean_price = int(data.Price.mean())"
   ]
  },
  {
   "cell_type": "code",
   "execution_count": null,
   "id": "de209971-1388-41e0-89c1-11762e33333d",
   "metadata": {},
   "outputs": [],
   "source": []
  },
  {
   "cell_type": "code",
   "execution_count": null,
   "id": "bc85df34-04bb-4cd7-9c76-e675d1803a1b",
   "metadata": {},
   "outputs": [],
   "source": []
  },
  {
   "cell_type": "markdown",
   "id": "8af8056b-0746-4fe1-ba89-018eb10d5106",
   "metadata": {},
   "source": [
    "### Insights Generation"
   ]
  },
  {
   "cell_type": "code",
   "execution_count": null,
   "id": "efb8381a-8035-4eef-bc56-2e5a8aa638f9",
   "metadata": {},
   "outputs": [],
   "source": []
  },
  {
   "cell_type": "markdown",
   "id": "17d3bb76-70ce-4675-9542-c5d11815d5f0",
   "metadata": {},
   "source": [
    "##### 1. Identify Most and Least Volatile Cryptocurrencies\n",
    "To identify the most and least volatile cryptocurrencies, we'll calculate the volatility based on the percentage changes over a specific period (e.g., 1 hour, 24 hours, 7 days, etc.) using the standard deviation of these percentage changes."
   ]
  },
  {
   "cell_type": "code",
   "execution_count": 14,
   "id": "61ba3498-d75a-4745-ac66-19c9f9cfc307",
   "metadata": {},
   "outputs": [],
   "source": [
    "#select the coloumns representing percentage changes\n",
    "percentage_coloumns = ['1h %', '24h %', '7d %', '60d %', '90d %']\n",
    "\n",
    "#calculate the std of percentage changes for each crypto, it basically giving volatility.\n",
    "df['volatility'] = df[percentage_coloumns].std(axis=1)\n",
    "\n",
    "#identify the most and least volatile crypto\n",
    "most_volatile = df.loc[df.volatility.idxmax()]\n",
    "least_volatile = df.loc[df.volatility.idxmin()]\n",
    "\n",
    "# .idxmax() this finds the index of the row with the highest value in the volatility column.\n",
    "# .loc this retrieves the entire row corresponding to the cryptocurrency with the highest volatility.\n"
   ]
  },
  {
   "cell_type": "code",
   "execution_count": 15,
   "id": "76307aa0-6fe3-4e65-8500-8cfde60b44b6",
   "metadata": {},
   "outputs": [
    {
     "name": "stdout",
     "output_type": "stream",
     "text": [
      "Most Volatile Cryptocurrency:\n",
      "Name: EADX Token\n",
      "Symbol: EDX\n",
      "Volatility: 14884163798\n",
      "\n",
      "Least Volatile Cryptocurrency:\n",
      "Name: Starship Doge\n",
      "Symbol: STARSHIPDOGE\n",
      "Volatility: 0\n"
     ]
    }
   ],
   "source": [
    "print(\"Most Volatile Cryptocurrency:\")\n",
    "print(f\"Name: {most_volatile['Name']}\")\n",
    "print(f\"Symbol: {most_volatile['Symbol']}\")\n",
    "print(f\"Volatility: {int(most_volatile['volatility'])}\")\n",
    "\n",
    "print(\"\\nLeast Volatile Cryptocurrency:\")\n",
    "print(f\"Name: {least_volatile['Name']}\")\n",
    "print(f\"Symbol: {least_volatile['Symbol']}\")\n",
    "print(f\"Volatility: {int(least_volatile['volatility'])}\")"
   ]
  },
  {
   "cell_type": "code",
   "execution_count": null,
   "id": "c9e9e092-46fe-4383-bf92-4b492a43e7ef",
   "metadata": {},
   "outputs": [],
   "source": []
  },
  {
   "cell_type": "markdown",
   "id": "3d4a059c-1ecf-4db7-b235-0846ac2475dc",
   "metadata": {},
   "source": [
    "##### 2. Correlation: How price movements correlate across crypto\n",
    "To analyze how price movements correlate across cryptocurrencies, we can compute the correlation matrix of percentage changes for all cryptocurrencies in the dataset. This will show how strongly the price movements of one cryptocurrency are related to others."
   ]
  },
  {
   "cell_type": "code",
   "execution_count": 16,
   "id": "09a0a241-48bf-49f0-84b2-3653d61f5dc6",
   "metadata": {},
   "outputs": [
    {
     "data": {
      "text/html": [
       "<div>\n",
       "<style scoped>\n",
       "    .dataframe tbody tr th:only-of-type {\n",
       "        vertical-align: middle;\n",
       "    }\n",
       "\n",
       "    .dataframe tbody tr th {\n",
       "        vertical-align: top;\n",
       "    }\n",
       "\n",
       "    .dataframe thead th {\n",
       "        text-align: right;\n",
       "    }\n",
       "</style>\n",
       "<table border=\"1\" class=\"dataframe\">\n",
       "  <thead>\n",
       "    <tr style=\"text-align: right;\">\n",
       "      <th></th>\n",
       "      <th>1h %</th>\n",
       "      <th>24h %</th>\n",
       "      <th>7d %</th>\n",
       "      <th>60d %</th>\n",
       "      <th>90d %</th>\n",
       "    </tr>\n",
       "  </thead>\n",
       "  <tbody>\n",
       "    <tr>\n",
       "      <th>1h %</th>\n",
       "      <td>1.000000</td>\n",
       "      <td>0.005370</td>\n",
       "      <td>0.002378</td>\n",
       "      <td>0.000264</td>\n",
       "      <td>0.000263</td>\n",
       "    </tr>\n",
       "    <tr>\n",
       "      <th>24h %</th>\n",
       "      <td>0.005370</td>\n",
       "      <td>1.000000</td>\n",
       "      <td>0.002126</td>\n",
       "      <td>-0.001451</td>\n",
       "      <td>-0.001454</td>\n",
       "    </tr>\n",
       "    <tr>\n",
       "      <th>7d %</th>\n",
       "      <td>0.002378</td>\n",
       "      <td>0.002126</td>\n",
       "      <td>1.000000</td>\n",
       "      <td>0.000482</td>\n",
       "      <td>0.000482</td>\n",
       "    </tr>\n",
       "    <tr>\n",
       "      <th>60d %</th>\n",
       "      <td>0.000264</td>\n",
       "      <td>-0.001451</td>\n",
       "      <td>0.000482</td>\n",
       "      <td>1.000000</td>\n",
       "      <td>1.000000</td>\n",
       "    </tr>\n",
       "    <tr>\n",
       "      <th>90d %</th>\n",
       "      <td>0.000263</td>\n",
       "      <td>-0.001454</td>\n",
       "      <td>0.000482</td>\n",
       "      <td>1.000000</td>\n",
       "      <td>1.000000</td>\n",
       "    </tr>\n",
       "  </tbody>\n",
       "</table>\n",
       "</div>"
      ],
      "text/plain": [
       "           1h %     24h %      7d %     60d %     90d %\n",
       "1h %   1.000000  0.005370  0.002378  0.000264  0.000263\n",
       "24h %  0.005370  1.000000  0.002126 -0.001451 -0.001454\n",
       "7d %   0.002378  0.002126  1.000000  0.000482  0.000482\n",
       "60d %  0.000264 -0.001451  0.000482  1.000000  1.000000\n",
       "90d %  0.000263 -0.001454  0.000482  1.000000  1.000000"
      ]
     },
     "execution_count": 16,
     "metadata": {},
     "output_type": "execute_result"
    }
   ],
   "source": [
    "df[percentage_coloumns].corr()"
   ]
  },
  {
   "cell_type": "code",
   "execution_count": null,
   "id": "6c859f47-fdf7-499c-8dd8-bb755d71d703",
   "metadata": {},
   "outputs": [],
   "source": []
  },
  {
   "cell_type": "markdown",
   "id": "8a75af1b-38b5-47f4-a8e4-cafe5b49d289",
   "metadata": {},
   "source": [
    "##### 3. Which cryptocurrencies have shown the highest growth rates over time\n",
    "To analyze the cryptocurrencies with the highest growth rates over time, we can calculate the percentage change in prices over a specified time period."
   ]
  },
  {
   "cell_type": "code",
   "execution_count": 17,
   "id": "4b500a0b-1d02-4674-a28e-defe7aa251a6",
   "metadata": {},
   "outputs": [
    {
     "name": "stdout",
     "output_type": "stream",
     "text": [
      "Top 10 Cryptocurrencies with Highest Growth Rates in 90 days:\n",
      "                    Name   Symbol         Price  growth_in_90d\n",
      "5576          EADX Token      EDX  2.716999e-03  738334.718293\n",
      "5543         SEX Odyssey      SEX  1.085234e+06  613238.032172\n",
      "10326  Chain-key Bitcoin    CKBTC  1.869536e+05  544073.211119\n",
      "5834             HayCoin      HAY  2.455357e+05  397492.204661\n",
      "3162             BOME AI     BOME  2.059612e-02  218837.615937\n",
      "3163                MSTR     MSTR  4.318764e+00  215023.060030\n",
      "9226   Punk Vault (NFTX)     PUNK  1.198036e+05  198322.153614\n",
      "7833       Level Finance      LGO  1.057400e+05  185609.365768\n",
      "10336             renBTC   RENBTC  9.444906e+04  156706.615294\n",
      "10291            pumpBTC  PUMPBTC  9.680281e+04  151443.427286\n"
     ]
    }
   ],
   "source": [
    "# calculating the percentage growth in 90d-\n",
    "df.loc[:, 'growth_in_90d'] = df['Price']*(1 + df['90d %']/100)  # Initial Value×(1+ Percentage Change/100)\n",
    "df= df[df['growth_in_90d'] < 1e6]     # to have 6 decimal    # loc is for saving again in the same file confusion\n",
    "highest_growth_90d = df.sort_values(by='growth_in_90d',ascending=False)\n",
    "\n",
    "print(\"Top 10 Cryptocurrencies with Highest Growth Rates in 90 days:\")\n",
    "print(highest_growth_90d[['Name', 'Symbol', 'Price', 'growth_in_90d']].head(10))"
   ]
  },
  {
   "cell_type": "code",
   "execution_count": null,
   "id": "f3d96a2e-acfc-4fcd-9223-8421008cfff8",
   "metadata": {},
   "outputs": [],
   "source": []
  },
  {
   "cell_type": "code",
   "execution_count": 18,
   "id": "a307d2e8-a0a5-4f8a-a5e1-2171e591cbe9",
   "metadata": {},
   "outputs": [
    {
     "name": "stdout",
     "output_type": "stream",
     "text": [
      "Top 10 Cryptocurrencies with Highest Growth Rates in 1 hour:\n",
      "                       Name   Symbol          Price   growth_in_1h\n",
      "5834                HayCoin      HAY  245535.696437  245539.134821\n",
      "10326     Chain-key Bitcoin    CKBTC  186953.628383  226096.069232\n",
      "9226      Punk Vault (NFTX)     PUNK  119803.607363  119803.607363\n",
      "7833          Level Finance      LGO  105739.974678  105739.974678\n",
      "10336                renBTC   RENBTC   94449.057073  103611.835731\n",
      "10291               pumpBTC  PUMPBTC   96802.808056   96802.808056\n",
      "10278   ether.fi Staked BTC     EBTC   96531.317063   96531.317063\n",
      "10282                  tBTC     TBTC   96575.168469   96510.449141\n",
      "10259  Coinbase Wrapped BTC    CBBTC   96704.956842   96484.382119\n",
      "4221          Bitcoin TRC20     BTCT   96189.624194   95682.632415\n"
     ]
    }
   ],
   "source": [
    "# calculating the percentage growth in 1h-\n",
    "df.loc[:, 'growth_in_1h'] = df['Price']*(1 + df['1h %']/100)  # Initial Value×(1+ Percentage Change/100)\n",
    "df= df[df['growth_in_1h'] < 1e6]     # to have 6 decimal    # loc is for saving again in the same file confusion\n",
    "highest_growth_90d = df.sort_values(by='growth_in_1h',ascending=False)\n",
    "\n",
    "print(\"Top 10 Cryptocurrencies with Highest Growth Rates in 1 hour:\")\n",
    "print(highest_growth_90d[['Name', 'Symbol', 'Price', 'growth_in_1h']].head(10))"
   ]
  },
  {
   "cell_type": "code",
   "execution_count": null,
   "id": "bb58a42e-4c89-43f1-9a70-f95573634673",
   "metadata": {},
   "outputs": [],
   "source": []
  },
  {
   "cell_type": "markdown",
   "id": "c3837a02-d769-4086-ad97-e23333606d0b",
   "metadata": {},
   "source": [
    "##### 4. Supply dynamics: study the impact of supply metrics on price\n",
    "Studying the impact of supply metrics (e.g., circulating supply, total supply, and max supply) on price involves analyzing the relationships between these variables."
   ]
  },
  {
   "cell_type": "code",
   "execution_count": 19,
   "id": "e65bdd1d-db95-433b-a59d-7a7efd6e464b",
   "metadata": {},
   "outputs": [
    {
     "name": "stdout",
     "output_type": "stream",
     "text": [
      "Correlation Matrix:\n",
      "                       Price  Circulating Supply  Total Supply  Max Supply\n",
      "Price               1.000000           -0.001034     -0.000554   -0.000554\n",
      "Circulating Supply -0.001034            1.000000     -0.000260   -0.000260\n",
      "Total Supply       -0.000554           -0.000260      1.000000    1.000000\n",
      "Max Supply         -0.000554           -0.000260      1.000000    1.000000\n"
     ]
    }
   ],
   "source": [
    "# Ensure columns are numeric where applicable\n",
    "numeric_columns = ['Price', 'Circulating Supply', 'Total Supply', 'Max Supply', 'Volume (24h)', 'Market Cap']\n",
    "df[numeric_columns] = df[numeric_columns].apply(pd.to_numeric, errors='coerce')\n",
    "\n",
    "\n",
    "# Drop rows with missing values in relevant columns\n",
    "df = df.dropna(subset=numeric_columns)\n",
    "\n",
    "# filled missing values with 0, for easy analysis\n",
    "df.fillna(0, inplace=True)\n",
    "\n",
    "# Calculate correlation matrix\n",
    "correlation_matrix = df[['Price', 'Circulating Supply', 'Total Supply', 'Max Supply']].corr()\n",
    "print(\"Correlation Matrix:\")\n",
    "print(correlation_matrix)"
   ]
  },
  {
   "cell_type": "code",
   "execution_count": null,
   "id": "e623e5f8-9c66-42b3-a694-e3f875fe6eab",
   "metadata": {},
   "outputs": [],
   "source": []
  },
  {
   "cell_type": "code",
   "execution_count": null,
   "id": "e4ee128e-427d-492b-9bdc-2c352e7a7ba3",
   "metadata": {},
   "outputs": [],
   "source": []
  },
  {
   "cell_type": "code",
   "execution_count": null,
   "id": "7cc19b38-40bf-4cd4-a43f-58decc187654",
   "metadata": {},
   "outputs": [],
   "source": []
  },
  {
   "cell_type": "markdown",
   "id": "c68130c5-d0a3-467e-884c-875615c5777e",
   "metadata": {},
   "source": [
    "### Visualizations"
   ]
  },
  {
   "cell_type": "markdown",
   "id": "242cb34c-f8d5-4f67-bcb5-5c49b7ffe15c",
   "metadata": {},
   "source": [
    "#### 1. Correlation"
   ]
  },
  {
   "cell_type": "code",
   "execution_count": 23,
   "id": "8a9099d5-cfa3-4e6f-9eda-6bbac72c7bb9",
   "metadata": {},
   "outputs": [
    {
     "data": {
      "image/png": "[encoded data removed]",
      "text/plain": [
       "<Figure size 600x400 with 2 Axes>"
      ]
     },
     "metadata": {},
     "output_type": "display_data"
    }
   ],
   "source": [
    "#correlation \n",
    "plt.figure(figsize=(6,4))\n",
    "sns.heatmap(correlation_matrix, annot=True, cmap='coolwarm', fmt=\".2f\")\n",
    "plt.title(\"Correlation heatmap of price movements\")\n",
    "plt.show()"
   ]
  },
  {
   "cell_type": "code",
   "execution_count": null,
   "id": "ee998f8b-eb28-44c3-b6a7-876ba5417584",
   "metadata": {},
   "outputs": [],
   "source": []
  },
  {
   "cell_type": "markdown",
   "id": "9acfcd09-ca9c-4552-9574-20512ff10ea1",
   "metadata": {},
   "source": [
    "#### 2. Scatter plot"
   ]
  },
  {
   "cell_type": "code",
   "execution_count": 24,
   "id": "75562699-ad80-478e-a192-a4bbafd398d1",
   "metadata": {},
   "outputs": [
    {
     "data": {
      "image/png": "[encoded data removed]",
      "text/plain": [
       "<Figure size 600x400 with 1 Axes>"
      ]
     },
     "metadata": {},
     "output_type": "display_data"
    }
   ],
   "source": [
    "# Scatter plot: Price vs. Circulating Supply\n",
    "plt.figure(figsize=(6, 4))\n",
    "sns.scatterplot(x='Circulating Supply', y='Price', data=df)\n",
    "plt.title(\"Price vs. Circulating Supply\")\n",
    "plt.xlabel(\"Circulating Supply\")\n",
    "plt.ylabel(\"Price\")\n",
    "plt.show()"
   ]
  },
  {
   "cell_type": "code",
   "execution_count": null,
   "id": "84ac27e4-142e-4751-ad6d-bd88dba5d28c",
   "metadata": {},
   "outputs": [],
   "source": []
  },
  {
   "cell_type": "code",
   "execution_count": null,
   "id": "8e7e1769-70ff-464c-81c2-c3b61541af38",
   "metadata": {},
   "outputs": [],
   "source": []
  },
  {
   "cell_type": "code",
   "execution_count": 24,
   "id": "ac1a9d3d-384a-422e-99a7-87c113d5193c",
   "metadata": {},
   "outputs": [],
   "source": [
    "# exporting the data for visualisation in Power BI\n",
    "df.to_excel('Crypto Trend 2024 Analysis.xlsx', index=False, engine='openpyxl')"
   ]
  },
  {
   "cell_type": "code",
   "execution_count": null,
   "id": "b9ccef51-486c-4f56-8250-da01e3ccaf00",
   "metadata": {},
   "outputs": [],
   "source": []
  },
  {
   "cell_type": "code",
   "execution_count": null,
   "id": "8e09029d-1811-41b9-8bb1-9de0bb5e133b",
   "metadata": {},
   "outputs": [],
   "source": []
  },
  {
   "cell_type": "code",
   "execution_count": null,
   "id": "c0f0dc37-327e-4ea5-82af-27b5feb7f001",
   "metadata": {},
   "outputs": [],
   "source": []
  }
 ],
 "metadata": {
  "kernelspec": {
   "display_name": "Python 3 (ipykernel)",
   "language": "python",
   "name": "python3"
  },
  "language_info": {
   "codemirror_mode": {
    "name": "ipython",
    "version": 3
   },
   "file_extension": ".py",
   "mimetype": "text/x-python",
   "name": "python",
   "nbconvert_exporter": "python",
   "pygments_lexer": "ipython3",
   "version": "3.12.7"
  }
 },
 "nbformat": 4,
 "nbformat_minor": 5
}
